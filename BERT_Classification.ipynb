{
  "cells": [
    {
      "cell_type": "markdown",
      "metadata": {
        "id": "view-in-github",
        "colab_type": "text"
      },
      "source": [
        "<a href=\"https://colab.research.google.com/github/AryanChaturvedi/Text-Classification/blob/main/BERT_Classification.ipynb\" target=\"_parent\"><img src=\"https://colab.research.google.com/assets/colab-badge.svg\" alt=\"Open In Colab\"/></a>"
      ]
    },
    {
      "cell_type": "markdown",
      "source": [
        "## BERT Embeddings as feature vector For ML Models "
      ],
      "metadata": {
        "id": "--_YdwDwkpdk"
      }
    },
    {
      "cell_type": "code",
      "execution_count": null,
      "metadata": {
        "id": "qbb_k8bK4zbr"
      },
      "outputs": [],
      "source": [
        "#import Models\n",
        "import pandas as pd\n",
        "import matplotlib.pyplot as plt\n",
        "import seaborn as sns\n",
        "import re\n",
        "import numpy as np"
      ]
    },
    {
      "cell_type": "code",
      "execution_count": null,
      "metadata": {
        "colab": {
          "base_uri": "https://localhost:8080/"
        },
        "id": "L_PJpRMJ2orJ",
        "outputId": "bff49a43-0d23-498e-b0b2-ddea14b9dbc3"
      },
      "outputs": [
        {
          "output_type": "stream",
          "name": "stdout",
          "text": [
            "Mounted at /content/drive\n"
          ]
        }
      ],
      "source": [
        "from google.colab import drive\n",
        "drive.mount('/content/drive')"
      ]
    },
    {
      "cell_type": "code",
      "execution_count": null,
      "metadata": {
        "id": "_dgtRy9y42VC"
      },
      "outputs": [],
      "source": [
        "train = pd.read_csv('/content/drive/MyDrive/Opencv/Document Classification/subjects-questions_10000.csv')"
      ]
    },
    {
      "cell_type": "markdown",
      "source": [
        "### EDA"
      ],
      "metadata": {
        "id": "SuA1sqdrlBdd"
      }
    },
    {
      "cell_type": "code",
      "execution_count": null,
      "metadata": {
        "colab": {
          "base_uri": "https://localhost:8080/",
          "height": 423
        },
        "id": "_c1gefri4-Tu",
        "outputId": "2687b6e7-fd4d-4541-eab7-b77700b4ce24"
      },
      "outputs": [
        {
          "output_type": "execute_result",
          "data": {
            "text/plain": [
              "      Unnamed: 0                                                eng    Subject\n",
              "0          95298  First discovered enzyme was\\nA. Isomerase\\nB. ...    Biology\n",
              "1          55186  The diagram shows two magnets and\\ntwo iron ro...    Physics\n",
              "2         111545  Polynuclear hydrocarbons are formed by complet...  Chemistry\n",
              "3          34588  A turn of radius \\( 20 \\mathrm{m} \\) is banked...    Physics\n",
              "4         105967  In an equilateral triangle of side \\( 3 \\sqrt{...      Maths\n",
              "...          ...                                                ...        ...\n",
              "9995        1551  Prove that \\( (1+i)^{4}\\left(1+\\frac{1}{i}\\rig...      Maths\n",
              "9996       77283  Find inclination (in degrees) of a line perpen...      Maths\n",
              "9997      118940  Burning of coal and diseal releases:\\nThis que...  Chemistry\n",
              "9998        6668  An LCR series circuit with \\( 100 \\Omega \\)\\nr...    Physics\n",
              "9999       41211  Which one of the following dienes would\\nyou e...  Chemistry\n",
              "\n",
              "[10000 rows x 3 columns]"
            ],
            "text/html": [
              "\n",
              "  <div id=\"df-3f611905-dc25-4172-acbf-154d25fe3f62\">\n",
              "    <div class=\"colab-df-container\">\n",
              "      <div>\n",
              "<style scoped>\n",
              "    .dataframe tbody tr th:only-of-type {\n",
              "        vertical-align: middle;\n",
              "    }\n",
              "\n",
              "    .dataframe tbody tr th {\n",
              "        vertical-align: top;\n",
              "    }\n",
              "\n",
              "    .dataframe thead th {\n",
              "        text-align: right;\n",
              "    }\n",
              "</style>\n",
              "<table border=\"1\" class=\"dataframe\">\n",
              "  <thead>\n",
              "    <tr style=\"text-align: right;\">\n",
              "      <th></th>\n",
              "      <th>Unnamed: 0</th>\n",
              "      <th>eng</th>\n",
              "      <th>Subject</th>\n",
              "    </tr>\n",
              "  </thead>\n",
              "  <tbody>\n",
              "    <tr>\n",
              "      <th>0</th>\n",
              "      <td>95298</td>\n",
              "      <td>First discovered enzyme was\\nA. Isomerase\\nB. ...</td>\n",
              "      <td>Biology</td>\n",
              "    </tr>\n",
              "    <tr>\n",
              "      <th>1</th>\n",
              "      <td>55186</td>\n",
              "      <td>The diagram shows two magnets and\\ntwo iron ro...</td>\n",
              "      <td>Physics</td>\n",
              "    </tr>\n",
              "    <tr>\n",
              "      <th>2</th>\n",
              "      <td>111545</td>\n",
              "      <td>Polynuclear hydrocarbons are formed by complet...</td>\n",
              "      <td>Chemistry</td>\n",
              "    </tr>\n",
              "    <tr>\n",
              "      <th>3</th>\n",
              "      <td>34588</td>\n",
              "      <td>A turn of radius \\( 20 \\mathrm{m} \\) is banked...</td>\n",
              "      <td>Physics</td>\n",
              "    </tr>\n",
              "    <tr>\n",
              "      <th>4</th>\n",
              "      <td>105967</td>\n",
              "      <td>In an equilateral triangle of side \\( 3 \\sqrt{...</td>\n",
              "      <td>Maths</td>\n",
              "    </tr>\n",
              "    <tr>\n",
              "      <th>...</th>\n",
              "      <td>...</td>\n",
              "      <td>...</td>\n",
              "      <td>...</td>\n",
              "    </tr>\n",
              "    <tr>\n",
              "      <th>9995</th>\n",
              "      <td>1551</td>\n",
              "      <td>Prove that \\( (1+i)^{4}\\left(1+\\frac{1}{i}\\rig...</td>\n",
              "      <td>Maths</td>\n",
              "    </tr>\n",
              "    <tr>\n",
              "      <th>9996</th>\n",
              "      <td>77283</td>\n",
              "      <td>Find inclination (in degrees) of a line perpen...</td>\n",
              "      <td>Maths</td>\n",
              "    </tr>\n",
              "    <tr>\n",
              "      <th>9997</th>\n",
              "      <td>118940</td>\n",
              "      <td>Burning of coal and diseal releases:\\nThis que...</td>\n",
              "      <td>Chemistry</td>\n",
              "    </tr>\n",
              "    <tr>\n",
              "      <th>9998</th>\n",
              "      <td>6668</td>\n",
              "      <td>An LCR series circuit with \\( 100 \\Omega \\)\\nr...</td>\n",
              "      <td>Physics</td>\n",
              "    </tr>\n",
              "    <tr>\n",
              "      <th>9999</th>\n",
              "      <td>41211</td>\n",
              "      <td>Which one of the following dienes would\\nyou e...</td>\n",
              "      <td>Chemistry</td>\n",
              "    </tr>\n",
              "  </tbody>\n",
              "</table>\n",
              "<p>10000 rows × 3 columns</p>\n",
              "</div>\n",
              "      <button class=\"colab-df-convert\" onclick=\"convertToInteractive('df-3f611905-dc25-4172-acbf-154d25fe3f62')\"\n",
              "              title=\"Convert this dataframe to an interactive table.\"\n",
              "              style=\"display:none;\">\n",
              "        \n",
              "  <svg xmlns=\"http://www.w3.org/2000/svg\" height=\"24px\"viewBox=\"0 0 24 24\"\n",
              "       width=\"24px\">\n",
              "    <path d=\"M0 0h24v24H0V0z\" fill=\"none\"/>\n",
              "    <path d=\"M18.56 5.44l.94 2.06.94-2.06 2.06-.94-2.06-.94-.94-2.06-.94 2.06-2.06.94zm-11 1L8.5 8.5l.94-2.06 2.06-.94-2.06-.94L8.5 2.5l-.94 2.06-2.06.94zm10 10l.94 2.06.94-2.06 2.06-.94-2.06-.94-.94-2.06-.94 2.06-2.06.94z\"/><path d=\"M17.41 7.96l-1.37-1.37c-.4-.4-.92-.59-1.43-.59-.52 0-1.04.2-1.43.59L10.3 9.45l-7.72 7.72c-.78.78-.78 2.05 0 2.83L4 21.41c.39.39.9.59 1.41.59.51 0 1.02-.2 1.41-.59l7.78-7.78 2.81-2.81c.8-.78.8-2.07 0-2.86zM5.41 20L4 18.59l7.72-7.72 1.47 1.35L5.41 20z\"/>\n",
              "  </svg>\n",
              "      </button>\n",
              "      \n",
              "  <style>\n",
              "    .colab-df-container {\n",
              "      display:flex;\n",
              "      flex-wrap:wrap;\n",
              "      gap: 12px;\n",
              "    }\n",
              "\n",
              "    .colab-df-convert {\n",
              "      background-color: #E8F0FE;\n",
              "      border: none;\n",
              "      border-radius: 50%;\n",
              "      cursor: pointer;\n",
              "      display: none;\n",
              "      fill: #1967D2;\n",
              "      height: 32px;\n",
              "      padding: 0 0 0 0;\n",
              "      width: 32px;\n",
              "    }\n",
              "\n",
              "    .colab-df-convert:hover {\n",
              "      background-color: #E2EBFA;\n",
              "      box-shadow: 0px 1px 2px rgba(60, 64, 67, 0.3), 0px 1px 3px 1px rgba(60, 64, 67, 0.15);\n",
              "      fill: #174EA6;\n",
              "    }\n",
              "\n",
              "    [theme=dark] .colab-df-convert {\n",
              "      background-color: #3B4455;\n",
              "      fill: #D2E3FC;\n",
              "    }\n",
              "\n",
              "    [theme=dark] .colab-df-convert:hover {\n",
              "      background-color: #434B5C;\n",
              "      box-shadow: 0px 1px 3px 1px rgba(0, 0, 0, 0.15);\n",
              "      filter: drop-shadow(0px 1px 2px rgba(0, 0, 0, 0.3));\n",
              "      fill: #FFFFFF;\n",
              "    }\n",
              "  </style>\n",
              "\n",
              "      <script>\n",
              "        const buttonEl =\n",
              "          document.querySelector('#df-3f611905-dc25-4172-acbf-154d25fe3f62 button.colab-df-convert');\n",
              "        buttonEl.style.display =\n",
              "          google.colab.kernel.accessAllowed ? 'block' : 'none';\n",
              "\n",
              "        async function convertToInteractive(key) {\n",
              "          const element = document.querySelector('#df-3f611905-dc25-4172-acbf-154d25fe3f62');\n",
              "          const dataTable =\n",
              "            await google.colab.kernel.invokeFunction('convertToInteractive',\n",
              "                                                     [key], {});\n",
              "          if (!dataTable) return;\n",
              "\n",
              "          const docLinkHtml = 'Like what you see? Visit the ' +\n",
              "            '<a target=\"_blank\" href=https://colab.research.google.com/notebooks/data_table.ipynb>data table notebook</a>'\n",
              "            + ' to learn more about interactive tables.';\n",
              "          element.innerHTML = '';\n",
              "          dataTable['output_type'] = 'display_data';\n",
              "          await google.colab.output.renderOutput(dataTable, element);\n",
              "          const docLink = document.createElement('div');\n",
              "          docLink.innerHTML = docLinkHtml;\n",
              "          element.appendChild(docLink);\n",
              "        }\n",
              "      </script>\n",
              "    </div>\n",
              "  </div>\n",
              "  "
            ]
          },
          "metadata": {},
          "execution_count": 5
        }
      ],
      "source": [
        "train"
      ]
    },
    {
      "cell_type": "code",
      "execution_count": null,
      "metadata": {
        "colab": {
          "base_uri": "https://localhost:8080/"
        },
        "id": "I3jnSRuj1sFf",
        "outputId": "838a498b-d94d-4b57-d1d0-0336d10081f2"
      },
      "outputs": [
        {
          "output_type": "stream",
          "name": "stdout",
          "text": [
            "<class 'pandas.core.frame.DataFrame'>\n",
            "RangeIndex: 10000 entries, 0 to 9999\n",
            "Data columns (total 3 columns):\n",
            " #   Column      Non-Null Count  Dtype \n",
            "---  ------      --------------  ----- \n",
            " 0   Unnamed: 0  10000 non-null  int64 \n",
            " 1   eng         10000 non-null  object\n",
            " 2   Subject     10000 non-null  object\n",
            "dtypes: int64(1), object(2)\n",
            "memory usage: 234.5+ KB\n"
          ]
        }
      ],
      "source": [
        "train.info()"
      ]
    },
    {
      "cell_type": "code",
      "execution_count": null,
      "metadata": {
        "colab": {
          "base_uri": "https://localhost:8080/",
          "height": 206
        },
        "id": "yfLjJ5-c1xak",
        "outputId": "699e628f-1fed-4b98-f087-a28e4193ff86"
      },
      "outputs": [
        {
          "output_type": "execute_result",
          "data": {
            "text/plain": [
              "           Unnamed: 0   eng\n",
              "Subject                    \n",
              "Biology          1065  1065\n",
              "Chemistry        3114  3114\n",
              "Maths            2702  2702\n",
              "Physics          3119  3119"
            ],
            "text/html": [
              "\n",
              "  <div id=\"df-d216f051-c859-4dd4-8303-2da2a518c819\">\n",
              "    <div class=\"colab-df-container\">\n",
              "      <div>\n",
              "<style scoped>\n",
              "    .dataframe tbody tr th:only-of-type {\n",
              "        vertical-align: middle;\n",
              "    }\n",
              "\n",
              "    .dataframe tbody tr th {\n",
              "        vertical-align: top;\n",
              "    }\n",
              "\n",
              "    .dataframe thead th {\n",
              "        text-align: right;\n",
              "    }\n",
              "</style>\n",
              "<table border=\"1\" class=\"dataframe\">\n",
              "  <thead>\n",
              "    <tr style=\"text-align: right;\">\n",
              "      <th></th>\n",
              "      <th>Unnamed: 0</th>\n",
              "      <th>eng</th>\n",
              "    </tr>\n",
              "    <tr>\n",
              "      <th>Subject</th>\n",
              "      <th></th>\n",
              "      <th></th>\n",
              "    </tr>\n",
              "  </thead>\n",
              "  <tbody>\n",
              "    <tr>\n",
              "      <th>Biology</th>\n",
              "      <td>1065</td>\n",
              "      <td>1065</td>\n",
              "    </tr>\n",
              "    <tr>\n",
              "      <th>Chemistry</th>\n",
              "      <td>3114</td>\n",
              "      <td>3114</td>\n",
              "    </tr>\n",
              "    <tr>\n",
              "      <th>Maths</th>\n",
              "      <td>2702</td>\n",
              "      <td>2702</td>\n",
              "    </tr>\n",
              "    <tr>\n",
              "      <th>Physics</th>\n",
              "      <td>3119</td>\n",
              "      <td>3119</td>\n",
              "    </tr>\n",
              "  </tbody>\n",
              "</table>\n",
              "</div>\n",
              "      <button class=\"colab-df-convert\" onclick=\"convertToInteractive('df-d216f051-c859-4dd4-8303-2da2a518c819')\"\n",
              "              title=\"Convert this dataframe to an interactive table.\"\n",
              "              style=\"display:none;\">\n",
              "        \n",
              "  <svg xmlns=\"http://www.w3.org/2000/svg\" height=\"24px\"viewBox=\"0 0 24 24\"\n",
              "       width=\"24px\">\n",
              "    <path d=\"M0 0h24v24H0V0z\" fill=\"none\"/>\n",
              "    <path d=\"M18.56 5.44l.94 2.06.94-2.06 2.06-.94-2.06-.94-.94-2.06-.94 2.06-2.06.94zm-11 1L8.5 8.5l.94-2.06 2.06-.94-2.06-.94L8.5 2.5l-.94 2.06-2.06.94zm10 10l.94 2.06.94-2.06 2.06-.94-2.06-.94-.94-2.06-.94 2.06-2.06.94z\"/><path d=\"M17.41 7.96l-1.37-1.37c-.4-.4-.92-.59-1.43-.59-.52 0-1.04.2-1.43.59L10.3 9.45l-7.72 7.72c-.78.78-.78 2.05 0 2.83L4 21.41c.39.39.9.59 1.41.59.51 0 1.02-.2 1.41-.59l7.78-7.78 2.81-2.81c.8-.78.8-2.07 0-2.86zM5.41 20L4 18.59l7.72-7.72 1.47 1.35L5.41 20z\"/>\n",
              "  </svg>\n",
              "      </button>\n",
              "      \n",
              "  <style>\n",
              "    .colab-df-container {\n",
              "      display:flex;\n",
              "      flex-wrap:wrap;\n",
              "      gap: 12px;\n",
              "    }\n",
              "\n",
              "    .colab-df-convert {\n",
              "      background-color: #E8F0FE;\n",
              "      border: none;\n",
              "      border-radius: 50%;\n",
              "      cursor: pointer;\n",
              "      display: none;\n",
              "      fill: #1967D2;\n",
              "      height: 32px;\n",
              "      padding: 0 0 0 0;\n",
              "      width: 32px;\n",
              "    }\n",
              "\n",
              "    .colab-df-convert:hover {\n",
              "      background-color: #E2EBFA;\n",
              "      box-shadow: 0px 1px 2px rgba(60, 64, 67, 0.3), 0px 1px 3px 1px rgba(60, 64, 67, 0.15);\n",
              "      fill: #174EA6;\n",
              "    }\n",
              "\n",
              "    [theme=dark] .colab-df-convert {\n",
              "      background-color: #3B4455;\n",
              "      fill: #D2E3FC;\n",
              "    }\n",
              "\n",
              "    [theme=dark] .colab-df-convert:hover {\n",
              "      background-color: #434B5C;\n",
              "      box-shadow: 0px 1px 3px 1px rgba(0, 0, 0, 0.15);\n",
              "      filter: drop-shadow(0px 1px 2px rgba(0, 0, 0, 0.3));\n",
              "      fill: #FFFFFF;\n",
              "    }\n",
              "  </style>\n",
              "\n",
              "      <script>\n",
              "        const buttonEl =\n",
              "          document.querySelector('#df-d216f051-c859-4dd4-8303-2da2a518c819 button.colab-df-convert');\n",
              "        buttonEl.style.display =\n",
              "          google.colab.kernel.accessAllowed ? 'block' : 'none';\n",
              "\n",
              "        async function convertToInteractive(key) {\n",
              "          const element = document.querySelector('#df-d216f051-c859-4dd4-8303-2da2a518c819');\n",
              "          const dataTable =\n",
              "            await google.colab.kernel.invokeFunction('convertToInteractive',\n",
              "                                                     [key], {});\n",
              "          if (!dataTable) return;\n",
              "\n",
              "          const docLinkHtml = 'Like what you see? Visit the ' +\n",
              "            '<a target=\"_blank\" href=https://colab.research.google.com/notebooks/data_table.ipynb>data table notebook</a>'\n",
              "            + ' to learn more about interactive tables.';\n",
              "          element.innerHTML = '';\n",
              "          dataTable['output_type'] = 'display_data';\n",
              "          await google.colab.output.renderOutput(dataTable, element);\n",
              "          const docLink = document.createElement('div');\n",
              "          docLink.innerHTML = docLinkHtml;\n",
              "          element.appendChild(docLink);\n",
              "        }\n",
              "      </script>\n",
              "    </div>\n",
              "  </div>\n",
              "  "
            ]
          },
          "metadata": {},
          "execution_count": 7
        }
      ],
      "source": [
        "train.groupby('Subject').count()"
      ]
    },
    {
      "cell_type": "code",
      "execution_count": null,
      "metadata": {
        "colab": {
          "base_uri": "https://localhost:8080/",
          "height": 295
        },
        "id": "_6O2arOk13-V",
        "outputId": "6d3f8485-623a-4083-e1d0-03a822f275e2"
      },
      "outputs": [
        {
          "output_type": "display_data",
          "data": {
            "text/plain": [
              "<Figure size 432x288 with 1 Axes>"
            ],
            "image/png": "[encoded data removed]"
          },
          "metadata": {
            "needs_background": "light"
          }
        }
      ],
      "source": [
        "fig, ax = plt.subplots()\n",
        "sns.histplot(\n",
        "    data = train,\n",
        "    x = 'Subject',\n",
        "    hue = 'Subject',\n",
        "    palette = 'bright',\n",
        "    legend = False,\n",
        "    ).set(\n",
        "        title = 'Category Counts');"
      ]
    },
    {
      "cell_type": "code",
      "execution_count": null,
      "metadata": {
        "colab": {
          "base_uri": "https://localhost:8080/",
          "height": 467
        },
        "id": "NV98ZWyg1_0m",
        "outputId": "b8453cb3-0421-4f0a-cd26-9ebfc1c6ef22"
      },
      "outputs": [
        {
          "output_type": "execute_result",
          "data": {
            "text/plain": [
              "      Unnamed: 0                                                eng  \\\n",
              "0          95298  First discovered enzyme was\\nA. Isomerase\\nB. ...   \n",
              "1          55186  The diagram shows two magnets and\\ntwo iron ro...   \n",
              "2         111545  Polynuclear hydrocarbons are formed by complet...   \n",
              "3          34588  A turn of radius \\( 20 \\mathrm{m} \\) is banked...   \n",
              "4         105967  In an equilateral triangle of side \\( 3 \\sqrt{...   \n",
              "...          ...                                                ...   \n",
              "9995        1551  Prove that \\( (1+i)^{4}\\left(1+\\frac{1}{i}\\rig...   \n",
              "9996       77283  Find inclination (in degrees) of a line perpen...   \n",
              "9997      118940  Burning of coal and diseal releases:\\nThis que...   \n",
              "9998        6668  An LCR series circuit with \\( 100 \\Omega \\)\\nr...   \n",
              "9999       41211  Which one of the following dienes would\\nyou e...   \n",
              "\n",
              "        Subject  word_count  \n",
              "0       Biology          12  \n",
              "1       Physics          92  \n",
              "2     Chemistry          14  \n",
              "3       Physics          52  \n",
              "4         Maths          16  \n",
              "...         ...         ...  \n",
              "9995      Maths           5  \n",
              "9996      Maths          10  \n",
              "9997  Chemistry          33  \n",
              "9998    Physics          89  \n",
              "9999  Chemistry          22  \n",
              "\n",
              "[10000 rows x 4 columns]"
            ],
            "text/html": [
              "\n",
              "  <div id=\"df-ee461f39-1ef9-4b77-bd29-f80e543a80d0\">\n",
              "    <div class=\"colab-df-container\">\n",
              "      <div>\n",
              "<style scoped>\n",
              "    .dataframe tbody tr th:only-of-type {\n",
              "        vertical-align: middle;\n",
              "    }\n",
              "\n",
              "    .dataframe tbody tr th {\n",
              "        vertical-align: top;\n",
              "    }\n",
              "\n",
              "    .dataframe thead th {\n",
              "        text-align: right;\n",
              "    }\n",
              "</style>\n",
              "<table border=\"1\" class=\"dataframe\">\n",
              "  <thead>\n",
              "    <tr style=\"text-align: right;\">\n",
              "      <th></th>\n",
              "      <th>Unnamed: 0</th>\n",
              "      <th>eng</th>\n",
              "      <th>Subject</th>\n",
              "      <th>word_count</th>\n",
              "    </tr>\n",
              "  </thead>\n",
              "  <tbody>\n",
              "    <tr>\n",
              "      <th>0</th>\n",
              "      <td>95298</td>\n",
              "      <td>First discovered enzyme was\\nA. Isomerase\\nB. ...</td>\n",
              "      <td>Biology</td>\n",
              "      <td>12</td>\n",
              "    </tr>\n",
              "    <tr>\n",
              "      <th>1</th>\n",
              "      <td>55186</td>\n",
              "      <td>The diagram shows two magnets and\\ntwo iron ro...</td>\n",
              "      <td>Physics</td>\n",
              "      <td>92</td>\n",
              "    </tr>\n",
              "    <tr>\n",
              "      <th>2</th>\n",
              "      <td>111545</td>\n",
              "      <td>Polynuclear hydrocarbons are formed by complet...</td>\n",
              "      <td>Chemistry</td>\n",
              "      <td>14</td>\n",
              "    </tr>\n",
              "    <tr>\n",
              "      <th>3</th>\n",
              "      <td>34588</td>\n",
              "      <td>A turn of radius \\( 20 \\mathrm{m} \\) is banked...</td>\n",
              "      <td>Physics</td>\n",
              "      <td>52</td>\n",
              "    </tr>\n",
              "    <tr>\n",
              "      <th>4</th>\n",
              "      <td>105967</td>\n",
              "      <td>In an equilateral triangle of side \\( 3 \\sqrt{...</td>\n",
              "      <td>Maths</td>\n",
              "      <td>16</td>\n",
              "    </tr>\n",
              "    <tr>\n",
              "      <th>...</th>\n",
              "      <td>...</td>\n",
              "      <td>...</td>\n",
              "      <td>...</td>\n",
              "      <td>...</td>\n",
              "    </tr>\n",
              "    <tr>\n",
              "      <th>9995</th>\n",
              "      <td>1551</td>\n",
              "      <td>Prove that \\( (1+i)^{4}\\left(1+\\frac{1}{i}\\rig...</td>\n",
              "      <td>Maths</td>\n",
              "      <td>5</td>\n",
              "    </tr>\n",
              "    <tr>\n",
              "      <th>9996</th>\n",
              "      <td>77283</td>\n",
              "      <td>Find inclination (in degrees) of a line perpen...</td>\n",
              "      <td>Maths</td>\n",
              "      <td>10</td>\n",
              "    </tr>\n",
              "    <tr>\n",
              "      <th>9997</th>\n",
              "      <td>118940</td>\n",
              "      <td>Burning of coal and diseal releases:\\nThis que...</td>\n",
              "      <td>Chemistry</td>\n",
              "      <td>33</td>\n",
              "    </tr>\n",
              "    <tr>\n",
              "      <th>9998</th>\n",
              "      <td>6668</td>\n",
              "      <td>An LCR series circuit with \\( 100 \\Omega \\)\\nr...</td>\n",
              "      <td>Physics</td>\n",
              "      <td>89</td>\n",
              "    </tr>\n",
              "    <tr>\n",
              "      <th>9999</th>\n",
              "      <td>41211</td>\n",
              "      <td>Which one of the following dienes would\\nyou e...</td>\n",
              "      <td>Chemistry</td>\n",
              "      <td>22</td>\n",
              "    </tr>\n",
              "  </tbody>\n",
              "</table>\n",
              "<p>10000 rows × 4 columns</p>\n",
              "</div>\n",
              "      <button class=\"colab-df-convert\" onclick=\"convertToInteractive('df-ee461f39-1ef9-4b77-bd29-f80e543a80d0')\"\n",
              "              title=\"Convert this dataframe to an interactive table.\"\n",
              "              style=\"display:none;\">\n",
              "        \n",
              "  <svg xmlns=\"http://www.w3.org/2000/svg\" height=\"24px\"viewBox=\"0 0 24 24\"\n",
              "       width=\"24px\">\n",
              "    <path d=\"M0 0h24v24H0V0z\" fill=\"none\"/>\n",
              "    <path d=\"M18.56 5.44l.94 2.06.94-2.06 2.06-.94-2.06-.94-.94-2.06-.94 2.06-2.06.94zm-11 1L8.5 8.5l.94-2.06 2.06-.94-2.06-.94L8.5 2.5l-.94 2.06-2.06.94zm10 10l.94 2.06.94-2.06 2.06-.94-2.06-.94-.94-2.06-.94 2.06-2.06.94z\"/><path d=\"M17.41 7.96l-1.37-1.37c-.4-.4-.92-.59-1.43-.59-.52 0-1.04.2-1.43.59L10.3 9.45l-7.72 7.72c-.78.78-.78 2.05 0 2.83L4 21.41c.39.39.9.59 1.41.59.51 0 1.02-.2 1.41-.59l7.78-7.78 2.81-2.81c.8-.78.8-2.07 0-2.86zM5.41 20L4 18.59l7.72-7.72 1.47 1.35L5.41 20z\"/>\n",
              "  </svg>\n",
              "      </button>\n",
              "      \n",
              "  <style>\n",
              "    .colab-df-container {\n",
              "      display:flex;\n",
              "      flex-wrap:wrap;\n",
              "      gap: 12px;\n",
              "    }\n",
              "\n",
              "    .colab-df-convert {\n",
              "      background-color: #E8F0FE;\n",
              "      border: none;\n",
              "      border-radius: 50%;\n",
              "      cursor: pointer;\n",
              "      display: none;\n",
              "      fill: #1967D2;\n",
              "      height: 32px;\n",
              "      padding: 0 0 0 0;\n",
              "      width: 32px;\n",
              "    }\n",
              "\n",
              "    .colab-df-convert:hover {\n",
              "      background-color: #E2EBFA;\n",
              "      box-shadow: 0px 1px 2px rgba(60, 64, 67, 0.3), 0px 1px 3px 1px rgba(60, 64, 67, 0.15);\n",
              "      fill: #174EA6;\n",
              "    }\n",
              "\n",
              "    [theme=dark] .colab-df-convert {\n",
              "      background-color: #3B4455;\n",
              "      fill: #D2E3FC;\n",
              "    }\n",
              "\n",
              "    [theme=dark] .colab-df-convert:hover {\n",
              "      background-color: #434B5C;\n",
              "      box-shadow: 0px 1px 3px 1px rgba(0, 0, 0, 0.15);\n",
              "      filter: drop-shadow(0px 1px 2px rgba(0, 0, 0, 0.3));\n",
              "      fill: #FFFFFF;\n",
              "    }\n",
              "  </style>\n",
              "\n",
              "      <script>\n",
              "        const buttonEl =\n",
              "          document.querySelector('#df-ee461f39-1ef9-4b77-bd29-f80e543a80d0 button.colab-df-convert');\n",
              "        buttonEl.style.display =\n",
              "          google.colab.kernel.accessAllowed ? 'block' : 'none';\n",
              "\n",
              "        async function convertToInteractive(key) {\n",
              "          const element = document.querySelector('#df-ee461f39-1ef9-4b77-bd29-f80e543a80d0');\n",
              "          const dataTable =\n",
              "            await google.colab.kernel.invokeFunction('convertToInteractive',\n",
              "                                                     [key], {});\n",
              "          if (!dataTable) return;\n",
              "\n",
              "          const docLinkHtml = 'Like what you see? Visit the ' +\n",
              "            '<a target=\"_blank\" href=https://colab.research.google.com/notebooks/data_table.ipynb>data table notebook</a>'\n",
              "            + ' to learn more about interactive tables.';\n",
              "          element.innerHTML = '';\n",
              "          dataTable['output_type'] = 'display_data';\n",
              "          await google.colab.output.renderOutput(dataTable, element);\n",
              "          const docLink = document.createElement('div');\n",
              "          docLink.innerHTML = docLinkHtml;\n",
              "          element.appendChild(docLink);\n",
              "        }\n",
              "      </script>\n",
              "    </div>\n",
              "  </div>\n",
              "  "
            ]
          },
          "metadata": {},
          "execution_count": 9
        }
      ],
      "source": [
        "# No of words per question\n",
        "train['word_count'] = train['eng'].apply(lambda row : len(row.split()))\n",
        "train"
      ]
    },
    {
      "cell_type": "code",
      "execution_count": null,
      "metadata": {
        "colab": {
          "base_uri": "https://localhost:8080/",
          "height": 300
        },
        "id": "O1ad5JLk3xEV",
        "outputId": "b828547c-7ed2-415e-d12e-2e46a0ddfee6"
      },
      "outputs": [
        {
          "output_type": "execute_result",
          "data": {
            "text/plain": [
              "          Unnamed: 0    word_count\n",
              "count   10000.000000  10000.000000\n",
              "mean    60915.770100     41.735900\n",
              "std     35258.028673     26.122036\n",
              "min        11.000000      1.000000\n",
              "25%     30133.750000     22.000000\n",
              "50%     60770.500000     36.000000\n",
              "75%     91736.250000     57.000000\n",
              "max    122516.000000    281.000000"
            ],
            "text/html": [
              "\n",
              "  <div id=\"df-1ba65eb7-5bc1-4815-ae00-8c50df088dc2\">\n",
              "    <div class=\"colab-df-container\">\n",
              "      <div>\n",
              "<style scoped>\n",
              "    .dataframe tbody tr th:only-of-type {\n",
              "        vertical-align: middle;\n",
              "    }\n",
              "\n",
              "    .dataframe tbody tr th {\n",
              "        vertical-align: top;\n",
              "    }\n",
              "\n",
              "    .dataframe thead th {\n",
              "        text-align: right;\n",
              "    }\n",
              "</style>\n",
              "<table border=\"1\" class=\"dataframe\">\n",
              "  <thead>\n",
              "    <tr style=\"text-align: right;\">\n",
              "      <th></th>\n",
              "      <th>Unnamed: 0</th>\n",
              "      <th>word_count</th>\n",
              "    </tr>\n",
              "  </thead>\n",
              "  <tbody>\n",
              "    <tr>\n",
              "      <th>count</th>\n",
              "      <td>10000.000000</td>\n",
              "      <td>10000.000000</td>\n",
              "    </tr>\n",
              "    <tr>\n",
              "      <th>mean</th>\n",
              "      <td>60915.770100</td>\n",
              "      <td>41.735900</td>\n",
              "    </tr>\n",
              "    <tr>\n",
              "      <th>std</th>\n",
              "      <td>35258.028673</td>\n",
              "      <td>26.122036</td>\n",
              "    </tr>\n",
              "    <tr>\n",
              "      <th>min</th>\n",
              "      <td>11.000000</td>\n",
              "      <td>1.000000</td>\n",
              "    </tr>\n",
              "    <tr>\n",
              "      <th>25%</th>\n",
              "      <td>30133.750000</td>\n",
              "      <td>22.000000</td>\n",
              "    </tr>\n",
              "    <tr>\n",
              "      <th>50%</th>\n",
              "      <td>60770.500000</td>\n",
              "      <td>36.000000</td>\n",
              "    </tr>\n",
              "    <tr>\n",
              "      <th>75%</th>\n",
              "      <td>91736.250000</td>\n",
              "      <td>57.000000</td>\n",
              "    </tr>\n",
              "    <tr>\n",
              "      <th>max</th>\n",
              "      <td>122516.000000</td>\n",
              "      <td>281.000000</td>\n",
              "    </tr>\n",
              "  </tbody>\n",
              "</table>\n",
              "</div>\n",
              "      <button class=\"colab-df-convert\" onclick=\"convertToInteractive('df-1ba65eb7-5bc1-4815-ae00-8c50df088dc2')\"\n",
              "              title=\"Convert this dataframe to an interactive table.\"\n",
              "              style=\"display:none;\">\n",
              "        \n",
              "  <svg xmlns=\"http://www.w3.org/2000/svg\" height=\"24px\"viewBox=\"0 0 24 24\"\n",
              "       width=\"24px\">\n",
              "    <path d=\"M0 0h24v24H0V0z\" fill=\"none\"/>\n",
              "    <path d=\"M18.56 5.44l.94 2.06.94-2.06 2.06-.94-2.06-.94-.94-2.06-.94 2.06-2.06.94zm-11 1L8.5 8.5l.94-2.06 2.06-.94-2.06-.94L8.5 2.5l-.94 2.06-2.06.94zm10 10l.94 2.06.94-2.06 2.06-.94-2.06-.94-.94-2.06-.94 2.06-2.06.94z\"/><path d=\"M17.41 7.96l-1.37-1.37c-.4-.4-.92-.59-1.43-.59-.52 0-1.04.2-1.43.59L10.3 9.45l-7.72 7.72c-.78.78-.78 2.05 0 2.83L4 21.41c.39.39.9.59 1.41.59.51 0 1.02-.2 1.41-.59l7.78-7.78 2.81-2.81c.8-.78.8-2.07 0-2.86zM5.41 20L4 18.59l7.72-7.72 1.47 1.35L5.41 20z\"/>\n",
              "  </svg>\n",
              "      </button>\n",
              "      \n",
              "  <style>\n",
              "    .colab-df-container {\n",
              "      display:flex;\n",
              "      flex-wrap:wrap;\n",
              "      gap: 12px;\n",
              "    }\n",
              "\n",
              "    .colab-df-convert {\n",
              "      background-color: #E8F0FE;\n",
              "      border: none;\n",
              "      border-radius: 50%;\n",
              "      cursor: pointer;\n",
              "      display: none;\n",
              "      fill: #1967D2;\n",
              "      height: 32px;\n",
              "      padding: 0 0 0 0;\n",
              "      width: 32px;\n",
              "    }\n",
              "\n",
              "    .colab-df-convert:hover {\n",
              "      background-color: #E2EBFA;\n",
              "      box-shadow: 0px 1px 2px rgba(60, 64, 67, 0.3), 0px 1px 3px 1px rgba(60, 64, 67, 0.15);\n",
              "      fill: #174EA6;\n",
              "    }\n",
              "\n",
              "    [theme=dark] .colab-df-convert {\n",
              "      background-color: #3B4455;\n",
              "      fill: #D2E3FC;\n",
              "    }\n",
              "\n",
              "    [theme=dark] .colab-df-convert:hover {\n",
              "      background-color: #434B5C;\n",
              "      box-shadow: 0px 1px 3px 1px rgba(0, 0, 0, 0.15);\n",
              "      filter: drop-shadow(0px 1px 2px rgba(0, 0, 0, 0.3));\n",
              "      fill: #FFFFFF;\n",
              "    }\n",
              "  </style>\n",
              "\n",
              "      <script>\n",
              "        const buttonEl =\n",
              "          document.querySelector('#df-1ba65eb7-5bc1-4815-ae00-8c50df088dc2 button.colab-df-convert');\n",
              "        buttonEl.style.display =\n",
              "          google.colab.kernel.accessAllowed ? 'block' : 'none';\n",
              "\n",
              "        async function convertToInteractive(key) {\n",
              "          const element = document.querySelector('#df-1ba65eb7-5bc1-4815-ae00-8c50df088dc2');\n",
              "          const dataTable =\n",
              "            await google.colab.kernel.invokeFunction('convertToInteractive',\n",
              "                                                     [key], {});\n",
              "          if (!dataTable) return;\n",
              "\n",
              "          const docLinkHtml = 'Like what you see? Visit the ' +\n",
              "            '<a target=\"_blank\" href=https://colab.research.google.com/notebooks/data_table.ipynb>data table notebook</a>'\n",
              "            + ' to learn more about interactive tables.';\n",
              "          element.innerHTML = '';\n",
              "          dataTable['output_type'] = 'display_data';\n",
              "          await google.colab.output.renderOutput(dataTable, element);\n",
              "          const docLink = document.createElement('div');\n",
              "          docLink.innerHTML = docLinkHtml;\n",
              "          element.appendChild(docLink);\n",
              "        }\n",
              "      </script>\n",
              "    </div>\n",
              "  </div>\n",
              "  "
            ]
          },
          "metadata": {},
          "execution_count": 11
        }
      ],
      "source": [
        "train.describe()"
      ]
    },
    {
      "cell_type": "code",
      "execution_count": null,
      "metadata": {
        "colab": {
          "base_uri": "https://localhost:8080/",
          "height": 296
        },
        "id": "hMpDdwR_3mSt",
        "outputId": "cfe586b0-4694-451b-9d7f-4d3975ee23d3"
      },
      "outputs": [
        {
          "output_type": "display_data",
          "data": {
            "text/plain": [
              "<Figure size 432x288 with 1 Axes>"
            ],
            "image/png": "[encoded data removed]"
          },
          "metadata": {
            "needs_background": "light"
          }
        }
      ],
      "source": [
        "fig, ax = plt.subplots()\n",
        "sns.histplot(\n",
        "    data = train, \n",
        "    x = 'word_count',\n",
        "    palette = 'colorblind',\n",
        "    hue = 'Subject',\n",
        "    kde = True\n",
        "    ).set(\n",
        "        title = 'Number of Words per Article');"
      ]
    },
    {
      "cell_type": "code",
      "execution_count": null,
      "metadata": {
        "colab": {
          "base_uri": "https://localhost:8080/"
        },
        "id": "trzy_s_12Ffa",
        "outputId": "be739375-cdf2-4464-d74a-da26d3c282b0"
      },
      "outputs": [
        {
          "output_type": "execute_result",
          "data": {
            "text/plain": [
              "7248    Q Type your question-\\nthan Segment \\( 2, \\) b...\n",
              "5211    It is known that \\( \\sum_{r=1}^{\\infty} \\frac{...\n",
              "5072    A system changes from state \\( X \\) to \\( Y \\)...\n",
              "5424    Protein found in eye lens is\\nA. Crystallin\\nB...\n",
              "980     Which one of the following methods is used in ...\n",
              "Name: eng, dtype: object"
            ]
          },
          "metadata": {},
          "execution_count": 10
        }
      ],
      "source": [
        "train['eng'].sample(5)"
      ]
    },
    {
      "cell_type": "code",
      "execution_count": null,
      "metadata": {
        "id": "lO9o2TdZ3183"
      },
      "outputs": [],
      "source": [
        "# Function for cleaning questions from special charectors\n",
        "def clean(df):\n",
        "\n",
        "    df.loc[:,'eng']=pd.DataFrame(df.loc[:,'eng'].str.lower())\n",
        "    \n",
        "    # remove (0-9) digits from a string\n",
        "    df.loc[:,'eng'] = [re.sub(r'\\d+','', i) for i in df.loc[:,'eng']]\n",
        "    \n",
        "    # [^a-zA-Z] means any character that IS NOT a-z OR A-Z, \" \" mans replace with space\n",
        "    df.loc[:,'eng'] = [re.sub(r'[^a-zA-Z]',' ', i) for i in df.loc[:,'eng']]\n",
        "    \n",
        "    # remove single charector (alphabates)\n",
        "    df.loc[:,'eng'] = [re.sub(r\"\\b[a-zA-Z]\\b\", '', i) for i in df.loc[:,'eng']]\n",
        "    #remove special symbols\n",
        "    df.loc[:,'eng'] = [re.sub(r\"[#|\\.|_|\\^|\\$|\\&|=|;|,|‐|-|–|(|)|//|\\\\+|\\|*|\\']+\",'', i) for i in df.loc[:,'eng']]\n",
        "    \n",
        "    # remove urls\n",
        "    df.loc[:,'eng'] = [re.sub(r\"https?://\\S+|www\\.\\S+\",' ', i) for i in df.loc[:,'eng']]\n",
        "    \n",
        "    # remove html tags\n",
        "    df.loc[:,'eng'] = [re.sub(r\"'<.*?>'\",' ', i) for i in df.loc[:,'eng']]\n",
        "    \n",
        "    \n",
        "    # remove extra whitespace\n",
        "    df.loc[:,'eng'] = [re.sub('  +',' ', i) for i in df.loc[:,'eng']]\n",
        "    \n",
        "    \n",
        "    return(df)"
      ]
    },
    {
      "cell_type": "code",
      "execution_count": null,
      "metadata": {
        "id": "qVEn-9Ji4PEH"
      },
      "outputs": [],
      "source": [
        "train = clean(train)"
      ]
    },
    {
      "cell_type": "code",
      "execution_count": null,
      "metadata": {
        "colab": {
          "base_uri": "https://localhost:8080/"
        },
        "id": "at89RxnR4TsW",
        "outputId": "d04f5632-49e2-451c-942c-0e023da183e1"
      },
      "outputs": [
        {
          "output_type": "execute_result",
          "data": {
            "text/plain": [
              "1571     radioactive element has atomic number and mas...\n",
              "8076     man weighs on the surface of the earth his we...\n",
              "7764    the differential equation of all parabola with...\n",
              "5138                                     the compound is \n",
              "8319    explain why dogs pant during hot summer days u...\n",
              "Name: eng, dtype: object"
            ]
          },
          "metadata": {},
          "execution_count": 15
        }
      ],
      "source": [
        "train['eng'].sample(5)"
      ]
    },
    {
      "cell_type": "markdown",
      "source": [
        "### Creat BERT Pretrained Model"
      ],
      "metadata": {
        "id": "UwQCISIylbBG"
      }
    },
    {
      "cell_type": "code",
      "execution_count": null,
      "metadata": {
        "id": "feQ9TsqN4o-p"
      },
      "outputs": [],
      "source": [
        "!pip install transformers"
      ]
    },
    {
      "cell_type": "code",
      "execution_count": null,
      "metadata": {
        "id": "P_tMCGMA4WLW"
      },
      "outputs": [],
      "source": [
        "# Import Packages\n",
        "import torch\n",
        "import pandas as pd\n",
        "from transformers import BertTokenizer, BertModel\n",
        "\n",
        "# Define BERT Model Name and max sentence length\n",
        "model_name = 'bert-base-uncased'\n",
        "max_len = 516"
      ]
    },
    {
      "cell_type": "code",
      "execution_count": null,
      "metadata": {
        "id": "_N-13Ueo4l_d"
      },
      "outputs": [],
      "source": [
        "# Tokeniser for selected model\n",
        "tokenizer = BertTokenizer.from_pretrained(model_name, do_lower_case=True)\n",
        "\n",
        "#Load pre-trained model (weights)\n",
        "# To returns all hidden-states, output_hidden_states= True )\n",
        "model = BertModel.from_pretrained('bert-base-uncased',output_hidden_states = True,) \n",
        "\n",
        "# Put the model in \"evaluation\" mode, meaning feed-forward operation.\n",
        "model.eval()     "
      ]
    },
    {
      "cell_type": "code",
      "execution_count": null,
      "metadata": {
        "id": "j48wrqke4_EG"
      },
      "outputs": [],
      "source": [
        "#Function for generating sentence embeddings\n",
        "def embedding( text):\n",
        "\n",
        "  # Add Special Token to input text\n",
        "  marked_text = \"[CLS] \" + text + \" [SEP]\"\n",
        "\n",
        "  # Tokenize our sentence with the BERT tokenizer.\n",
        "  tokenized_text = tokenizer.tokenize(marked_text )\n",
        "\n",
        "  # Map the token strings to their vocabulary indeces.\n",
        "  indexed_tokens = tokenizer.convert_tokens_to_ids(tokenized_text)\n",
        "  \n",
        "  #Marking each token to sentence 1\n",
        "  segments_ids = [1] * len(tokenized_text)\n",
        "\n",
        "  # Convert inputs to PyTorch tensors\n",
        "  tokens_tensor = torch.tensor([indexed_tokens])\n",
        "  segments_tensors = torch.tensor([segments_ids])\n",
        "\n",
        "  with torch.no_grad():\n",
        "\n",
        "    outputs = model(tokens_tensor, segments_tensors)\n",
        "    hidden_states = outputs[2]\n",
        "\n",
        "  token_embeddings = torch.stack(hidden_states, dim=0)\n",
        "  # Remove dimension 1, the \"batches\".\n",
        "  token_embeddings = torch.squeeze(token_embeddings, dim=1)\n",
        "  token_embeddings = token_embeddings.permute(1,0,2)\n",
        "  \n",
        "  #taking token emb from 2nd to last layer\n",
        "  token_vecs = hidden_states[-2][0]\n",
        "  \n",
        "  # token_vecs has size [#token * 768]\n",
        "  sentence_embedding = torch.mean(token_vecs, dim=0)\n",
        "\n",
        "  return sentence_embedding"
      ]
    },
    {
      "cell_type": "code",
      "execution_count": null,
      "metadata": {
        "id": "fBs36ik35Dfb"
      },
      "outputs": [],
      "source": [
        "# Define fxn to calculate embedding of all sentences\n",
        "collect = []\n",
        "for i in range (len(train['eng'])):\n",
        "    print(i )\n",
        "    temp = embedding( train['eng'][i])\n",
        "    collect.append(temp)\n",
        "# Convert list to tensor\n",
        "collect = torch.stack(collect)\n",
        "# torch to numpy\n",
        "trainA = collect.numpy()"
      ]
    },
    {
      "cell_type": "code",
      "execution_count": null,
      "metadata": {
        "id": "0H07uTFJ5Lmd"
      },
      "outputs": [],
      "source": [
        "#convert embeddings to datafram\n",
        "train_emb = pd.DataFrame(trainA)"
      ]
    },
    {
      "cell_type": "code",
      "execution_count": null,
      "metadata": {
        "id": "a9SdsC347C8I"
      },
      "outputs": [],
      "source": [
        "# train_emb.to_csv('/content/drive/MyDrive/Collab/Document Classification/Subject-questions1000_emb.csv')"
      ]
    },
    {
      "cell_type": "code",
      "execution_count": null,
      "metadata": {
        "id": "1gbPR-u_4zbk"
      },
      "outputs": [],
      "source": [
        "train_emb  = pd.read_csv('/content/drive/MyDrive/Opencv/Document Classification/Subject-questions1000_emb.csv')"
      ]
    },
    {
      "cell_type": "code",
      "execution_count": null,
      "metadata": {
        "id": "EY8wuFr88BHO"
      },
      "outputs": [],
      "source": [
        "# Convert subjects into numerical classes\n",
        "from sklearn import preprocessing\n",
        "label_encoder = preprocessing.LabelEncoder()\n",
        "labels = label_encoder.fit_transform(train['Subject'])"
      ]
    },
    {
      "cell_type": "code",
      "execution_count": null,
      "metadata": {
        "id": "9B5CsM6-wgc7"
      },
      "outputs": [],
      "source": [
        "tags= label_encoder.classes_"
      ]
    },
    {
      "cell_type": "markdown",
      "source": [
        "### Applying ML Classification Models"
      ],
      "metadata": {
        "id": "jhXvgLIxmMT_"
      }
    },
    {
      "cell_type": "code",
      "execution_count": null,
      "metadata": {
        "colab": {
          "base_uri": "https://localhost:8080/"
        },
        "id": "yW9WOhOG8INn",
        "outputId": "95e4a0d7-b10a-4e2c-f3d2-0ae4e281354d"
      },
      "outputs": [
        {
          "output_type": "stream",
          "name": "stdout",
          "text": [
            "Accuracy: 0.856\n"
          ]
        }
      ],
      "source": [
        "# Import packages\n",
        "from sklearn.ensemble import RandomForestClassifier\n",
        "from sklearn.metrics import classification_report \n",
        "import sklearn.metrics as metrics\n",
        "from sklearn.model_selection import train_test_split\n",
        "\n",
        "X_train, X_test, y_train, y_test = train_test_split(train_emb, labels, test_size = 0.2, random_state = 42)\n",
        "\n",
        "# Create a Random Forest model\n",
        "classifier_rf = RandomForestClassifier(random_state=42, n_jobs=-1, max_depth=30,\n",
        "                                       n_estimators=250, oob_score=True)\n",
        "# Train the model\n",
        "classifier_rf.fit(X_train,y_train)\n",
        "\n",
        "# Predict and get accuracy\n",
        "y_pred  =classifier_rf.predict(X_test)\n",
        "print(\"Accuracy:\",metrics.accuracy_score(y_test, y_pred))"
      ]
    },
    {
      "cell_type": "code",
      "execution_count": null,
      "metadata": {
        "colab": {
          "base_uri": "https://localhost:8080/"
        },
        "id": "52_FwkuHudcu",
        "outputId": "235aed91-cdc2-4d18-c77f-0dc05214de0d"
      },
      "outputs": [
        {
          "output_type": "stream",
          "name": "stdout",
          "text": [
            "              precision    recall  f1-score   support\n",
            "\n",
            "     Biology       0.89      0.81      0.85       196\n",
            "   Chemistry       0.83      0.83      0.83       601\n",
            "       Maths       0.87      0.93      0.90       558\n",
            "     Physics       0.86      0.83      0.84       645\n",
            "\n",
            "    accuracy                           0.86      2000\n",
            "   macro avg       0.86      0.85      0.86      2000\n",
            "weighted avg       0.86      0.86      0.86      2000\n",
            "\n"
          ]
        }
      ],
      "source": [
        "print(metrics.classification_report(y_test, y_pred,target_names=tags))"
      ]
    },
    {
      "cell_type": "markdown",
      "metadata": {
        "id": "aItS-TIhu4Gn"
      },
      "source": [
        "### Logistic Regression"
      ]
    },
    {
      "cell_type": "code",
      "execution_count": null,
      "metadata": {
        "colab": {
          "base_uri": "https://localhost:8080/"
        },
        "id": "f1z9Mm4ItWAY",
        "outputId": "29c0ffd8-3c46-4a70-d4e7-5871b6248efe"
      },
      "outputs": [
        {
          "output_type": "stream",
          "name": "stdout",
          "text": [
            "              precision    recall  f1-score   support\n",
            "\n",
            "     Biology       0.81      0.79      0.80       196\n",
            "   Chemistry       0.85      0.75      0.80       601\n",
            "       Maths       0.76      0.87      0.81       558\n",
            "     Physics       0.79      0.79      0.79       645\n",
            "\n",
            "    accuracy                           0.80      2000\n",
            "   macro avg       0.80      0.80      0.80      2000\n",
            "weighted avg       0.80      0.80      0.80      2000\n",
            "\n"
          ]
        },
        {
          "output_type": "stream",
          "name": "stderr",
          "text": [
            "/usr/local/lib/python3.9/dist-packages/sklearn/linear_model/_logistic.py:458: ConvergenceWarning: lbfgs failed to converge (status=1):\n",
            "STOP: TOTAL NO. of ITERATIONS REACHED LIMIT.\n",
            "\n",
            "Increase the number of iterations (max_iter) or scale the data as shown in:\n",
            "    https://scikit-learn.org/stable/modules/preprocessing.html\n",
            "Please also refer to the documentation for alternative solver options:\n",
            "    https://scikit-learn.org/stable/modules/linear_model.html#logistic-regression\n",
            "  n_iter_i = _check_optimize_result(\n"
          ]
        }
      ],
      "source": [
        "from sklearn.linear_model import LogisticRegression\n",
        "reg_log = LogisticRegression()\n",
        "reg_log.fit(X_train, y_train)\n",
        "y_pred = reg_log.predict(X_test)\n",
        "print(metrics.classification_report(y_test, y_pred,target_names=tags))"
      ]
    },
    {
      "cell_type": "markdown",
      "metadata": {
        "id": "uz1rqYSNvJkK"
      },
      "source": [
        "### SVM"
      ]
    },
    {
      "cell_type": "code",
      "execution_count": null,
      "metadata": {
        "colab": {
          "base_uri": "https://localhost:8080/"
        },
        "id": "1Wpt9-lsvCMK",
        "outputId": "cc7bc076-72a7-4039-b4c6-bb23ae988fe4"
      },
      "outputs": [
        {
          "output_type": "stream",
          "name": "stdout",
          "text": [
            "              precision    recall  f1-score   support\n",
            "\n",
            "     Biology       0.00      0.00      0.00       196\n",
            "   Chemistry       0.30      0.56      0.39       601\n",
            "       Maths       0.00      0.00      0.00       558\n",
            "     Physics       0.32      0.44      0.37       645\n",
            "\n",
            "    accuracy                           0.31      2000\n",
            "   macro avg       0.16      0.25      0.19      2000\n",
            "weighted avg       0.19      0.31      0.24      2000\n",
            "\n"
          ]
        },
        {
          "output_type": "stream",
          "name": "stderr",
          "text": [
            "/usr/local/lib/python3.9/dist-packages/sklearn/metrics/_classification.py:1344: UndefinedMetricWarning: Precision and F-score are ill-defined and being set to 0.0 in labels with no predicted samples. Use `zero_division` parameter to control this behavior.\n",
            "  _warn_prf(average, modifier, msg_start, len(result))\n",
            "/usr/local/lib/python3.9/dist-packages/sklearn/metrics/_classification.py:1344: UndefinedMetricWarning: Precision and F-score are ill-defined and being set to 0.0 in labels with no predicted samples. Use `zero_division` parameter to control this behavior.\n",
            "  _warn_prf(average, modifier, msg_start, len(result))\n",
            "/usr/local/lib/python3.9/dist-packages/sklearn/metrics/_classification.py:1344: UndefinedMetricWarning: Precision and F-score are ill-defined and being set to 0.0 in labels with no predicted samples. Use `zero_division` parameter to control this behavior.\n",
            "  _warn_prf(average, modifier, msg_start, len(result))\n"
          ]
        }
      ],
      "source": [
        "from sklearn.svm import SVC\n",
        "reg_svc = SVC()\n",
        "reg_svc.fit(X_train, y_train)\n",
        "y_pred = reg_svc.predict(X_test)\n",
        "print(metrics.classification_report(y_test, y_pred,target_names=tags))"
      ]
    },
    {
      "cell_type": "markdown",
      "metadata": {
        "id": "NFg-D_T3vSpP"
      },
      "source": [
        "### KNN Classifier"
      ]
    },
    {
      "cell_type": "code",
      "execution_count": null,
      "metadata": {
        "colab": {
          "base_uri": "https://localhost:8080/"
        },
        "id": "DyEXfp0FvQl1",
        "outputId": "7dc2a95f-1de8-49d0-e42f-e07200f5965a"
      },
      "outputs": [
        {
          "output_type": "stream",
          "name": "stdout",
          "text": [
            "              precision    recall  f1-score   support\n",
            "\n",
            "     Biology       0.34      0.16      0.22       196\n",
            "   Chemistry       0.38      0.54      0.45       601\n",
            "       Maths       0.53      0.40      0.46       558\n",
            "     Physics       0.45      0.46      0.46       645\n",
            "\n",
            "    accuracy                           0.44      2000\n",
            "   macro avg       0.43      0.39      0.39      2000\n",
            "weighted avg       0.44      0.44      0.43      2000\n",
            "\n"
          ]
        }
      ],
      "source": [
        "from sklearn.neighbors import KNeighborsClassifier\n",
        "reg_knn = KNeighborsClassifier()\n",
        "reg_knn.fit(X_train, y_train)\n",
        "y_pred = reg_knn.predict(X_test)\n",
        "print(metrics.classification_report(y_test, y_pred,target_names=tags))"
      ]
    },
    {
      "cell_type": "markdown",
      "metadata": {
        "id": "zKTAMbxKxrP0"
      },
      "source": [
        "### XGBoost"
      ]
    },
    {
      "cell_type": "code",
      "execution_count": null,
      "metadata": {
        "colab": {
          "base_uri": "https://localhost:8080/"
        },
        "id": "Wlwa6D12valj",
        "outputId": "ff686f07-5c35-43d2-ff8d-53887bdfeec9"
      },
      "outputs": [
        {
          "output_type": "stream",
          "name": "stderr",
          "text": [
            "/usr/local/lib/python3.9/dist-packages/xgboost/sklearn.py:1395: UserWarning: `use_label_encoder` is deprecated in 1.7.0.\n",
            "  warnings.warn(\"`use_label_encoder` is deprecated in 1.7.0.\")\n"
          ]
        },
        {
          "output_type": "stream",
          "name": "stdout",
          "text": [
            "              precision    recall  f1-score   support\n",
            "\n",
            "     Biology       0.87      0.85      0.86       196\n",
            "   Chemistry       0.84      0.85      0.85       601\n",
            "       Maths       0.90      0.96      0.93       558\n",
            "     Physics       0.90      0.85      0.87       645\n",
            "\n",
            "    accuracy                           0.88      2000\n",
            "   macro avg       0.88      0.88      0.88      2000\n",
            "weighted avg       0.88      0.88      0.88      2000\n",
            "\n"
          ]
        }
      ],
      "source": [
        "from xgboost import XGBClassifier\n",
        "model = XGBClassifier(use_label_encoder=False, eval_metric='mlogloss')\n",
        "model.fit(X_train, y_train)\n",
        "y_pred = model.predict(X_test)\n",
        "print(metrics.classification_report(y_test, y_pred,target_names=tags))"
      ]
    },
    {
      "cell_type": "markdown",
      "source": [
        "## Fine Tune BERT"
      ],
      "metadata": {
        "id": "VFMOz1jN7IHH"
      }
    },
    {
      "cell_type": "markdown",
      "source": [
        "Here I am using texts  for fine tuning BERT without their Preprocessing and cleaning"
      ],
      "metadata": {
        "id": "QebYqLrjmfBY"
      }
    },
    {
      "cell_type": "code",
      "source": [
        "# Import packages\n",
        "from sklearn.ensemble import RandomForestClassifier\n",
        "from sklearn.metrics import classification_report \n",
        "import sklearn.metrics as metrics\n",
        "from sklearn.model_selection import train_test_split"
      ],
      "metadata": {
        "id": "Lgw2GailHkwl"
      },
      "execution_count": null,
      "outputs": []
    },
    {
      "cell_type": "code",
      "source": [
        "train = pd.read_csv('/content/drive/MyDrive/Opencv/Document Classification/subjects-questions_10000.csv')"
      ],
      "metadata": {
        "id": "MxuAVSlqGjVf"
      },
      "execution_count": null,
      "outputs": []
    },
    {
      "cell_type": "code",
      "source": [
        "train.head()"
      ],
      "metadata": {
        "colab": {
          "base_uri": "https://localhost:8080/",
          "height": 206
        },
        "id": "AFWiMadR7W_y",
        "outputId": "3b710c6c-eb13-416e-c272-4b06b1f22581"
      },
      "execution_count": null,
      "outputs": [
        {
          "output_type": "execute_result",
          "data": {
            "text/plain": [
              "   Unnamed: 0                                                eng    Subject\n",
              "0       95298  First discovered enzyme was\\nA. Isomerase\\nB. ...    Biology\n",
              "1       55186  The diagram shows two magnets and\\ntwo iron ro...    Physics\n",
              "2      111545  Polynuclear hydrocarbons are formed by complet...  Chemistry\n",
              "3       34588  A turn of radius \\( 20 \\mathrm{m} \\) is banked...    Physics\n",
              "4      105967  In an equilateral triangle of side \\( 3 \\sqrt{...      Maths"
            ],
            "text/html": [
              "\n",
              "  <div id=\"df-f4e8075e-6317-41a0-b8bb-f81aeef97452\">\n",
              "    <div class=\"colab-df-container\">\n",
              "      <div>\n",
              "<style scoped>\n",
              "    .dataframe tbody tr th:only-of-type {\n",
              "        vertical-align: middle;\n",
              "    }\n",
              "\n",
              "    .dataframe tbody tr th {\n",
              "        vertical-align: top;\n",
              "    }\n",
              "\n",
              "    .dataframe thead th {\n",
              "        text-align: right;\n",
              "    }\n",
              "</style>\n",
              "<table border=\"1\" class=\"dataframe\">\n",
              "  <thead>\n",
              "    <tr style=\"text-align: right;\">\n",
              "      <th></th>\n",
              "      <th>Unnamed: 0</th>\n",
              "      <th>eng</th>\n",
              "      <th>Subject</th>\n",
              "    </tr>\n",
              "  </thead>\n",
              "  <tbody>\n",
              "    <tr>\n",
              "      <th>0</th>\n",
              "      <td>95298</td>\n",
              "      <td>First discovered enzyme was\\nA. Isomerase\\nB. ...</td>\n",
              "      <td>Biology</td>\n",
              "    </tr>\n",
              "    <tr>\n",
              "      <th>1</th>\n",
              "      <td>55186</td>\n",
              "      <td>The diagram shows two magnets and\\ntwo iron ro...</td>\n",
              "      <td>Physics</td>\n",
              "    </tr>\n",
              "    <tr>\n",
              "      <th>2</th>\n",
              "      <td>111545</td>\n",
              "      <td>Polynuclear hydrocarbons are formed by complet...</td>\n",
              "      <td>Chemistry</td>\n",
              "    </tr>\n",
              "    <tr>\n",
              "      <th>3</th>\n",
              "      <td>34588</td>\n",
              "      <td>A turn of radius \\( 20 \\mathrm{m} \\) is banked...</td>\n",
              "      <td>Physics</td>\n",
              "    </tr>\n",
              "    <tr>\n",
              "      <th>4</th>\n",
              "      <td>105967</td>\n",
              "      <td>In an equilateral triangle of side \\( 3 \\sqrt{...</td>\n",
              "      <td>Maths</td>\n",
              "    </tr>\n",
              "  </tbody>\n",
              "</table>\n",
              "</div>\n",
              "      <button class=\"colab-df-convert\" onclick=\"convertToInteractive('df-f4e8075e-6317-41a0-b8bb-f81aeef97452')\"\n",
              "              title=\"Convert this dataframe to an interactive table.\"\n",
              "              style=\"display:none;\">\n",
              "        \n",
              "  <svg xmlns=\"http://www.w3.org/2000/svg\" height=\"24px\"viewBox=\"0 0 24 24\"\n",
              "       width=\"24px\">\n",
              "    <path d=\"M0 0h24v24H0V0z\" fill=\"none\"/>\n",
              "    <path d=\"M18.56 5.44l.94 2.06.94-2.06 2.06-.94-2.06-.94-.94-2.06-.94 2.06-2.06.94zm-11 1L8.5 8.5l.94-2.06 2.06-.94-2.06-.94L8.5 2.5l-.94 2.06-2.06.94zm10 10l.94 2.06.94-2.06 2.06-.94-2.06-.94-.94-2.06-.94 2.06-2.06.94z\"/><path d=\"M17.41 7.96l-1.37-1.37c-.4-.4-.92-.59-1.43-.59-.52 0-1.04.2-1.43.59L10.3 9.45l-7.72 7.72c-.78.78-.78 2.05 0 2.83L4 21.41c.39.39.9.59 1.41.59.51 0 1.02-.2 1.41-.59l7.78-7.78 2.81-2.81c.8-.78.8-2.07 0-2.86zM5.41 20L4 18.59l7.72-7.72 1.47 1.35L5.41 20z\"/>\n",
              "  </svg>\n",
              "      </button>\n",
              "      \n",
              "  <style>\n",
              "    .colab-df-container {\n",
              "      display:flex;\n",
              "      flex-wrap:wrap;\n",
              "      gap: 12px;\n",
              "    }\n",
              "\n",
              "    .colab-df-convert {\n",
              "      background-color: #E8F0FE;\n",
              "      border: none;\n",
              "      border-radius: 50%;\n",
              "      cursor: pointer;\n",
              "      display: none;\n",
              "      fill: #1967D2;\n",
              "      height: 32px;\n",
              "      padding: 0 0 0 0;\n",
              "      width: 32px;\n",
              "    }\n",
              "\n",
              "    .colab-df-convert:hover {\n",
              "      background-color: #E2EBFA;\n",
              "      box-shadow: 0px 1px 2px rgba(60, 64, 67, 0.3), 0px 1px 3px 1px rgba(60, 64, 67, 0.15);\n",
              "      fill: #174EA6;\n",
              "    }\n",
              "\n",
              "    [theme=dark] .colab-df-convert {\n",
              "      background-color: #3B4455;\n",
              "      fill: #D2E3FC;\n",
              "    }\n",
              "\n",
              "    [theme=dark] .colab-df-convert:hover {\n",
              "      background-color: #434B5C;\n",
              "      box-shadow: 0px 1px 3px 1px rgba(0, 0, 0, 0.15);\n",
              "      filter: drop-shadow(0px 1px 2px rgba(0, 0, 0, 0.3));\n",
              "      fill: #FFFFFF;\n",
              "    }\n",
              "  </style>\n",
              "\n",
              "      <script>\n",
              "        const buttonEl =\n",
              "          document.querySelector('#df-f4e8075e-6317-41a0-b8bb-f81aeef97452 button.colab-df-convert');\n",
              "        buttonEl.style.display =\n",
              "          google.colab.kernel.accessAllowed ? 'block' : 'none';\n",
              "\n",
              "        async function convertToInteractive(key) {\n",
              "          const element = document.querySelector('#df-f4e8075e-6317-41a0-b8bb-f81aeef97452');\n",
              "          const dataTable =\n",
              "            await google.colab.kernel.invokeFunction('convertToInteractive',\n",
              "                                                     [key], {});\n",
              "          if (!dataTable) return;\n",
              "\n",
              "          const docLinkHtml = 'Like what you see? Visit the ' +\n",
              "            '<a target=\"_blank\" href=https://colab.research.google.com/notebooks/data_table.ipynb>data table notebook</a>'\n",
              "            + ' to learn more about interactive tables.';\n",
              "          element.innerHTML = '';\n",
              "          dataTable['output_type'] = 'display_data';\n",
              "          await google.colab.output.renderOutput(dataTable, element);\n",
              "          const docLink = document.createElement('div');\n",
              "          docLink.innerHTML = docLinkHtml;\n",
              "          element.appendChild(docLink);\n",
              "        }\n",
              "      </script>\n",
              "    </div>\n",
              "  </div>\n",
              "  "
            ]
          },
          "metadata": {},
          "execution_count": 38
        }
      ]
    },
    {
      "cell_type": "code",
      "source": [
        "# Split data into train and test sets\n",
        "train_data, test_data = train_test_split(train, test_size=0.2, random_state=42)"
      ],
      "metadata": {
        "id": "Cvto7hvm54Xo"
      },
      "execution_count": null,
      "outputs": []
    },
    {
      "cell_type": "code",
      "source": [
        "# Get the labels\n",
        "labels = train[\"Subject\"].unique().tolist()"
      ],
      "metadata": {
        "id": "ihXBOfIA54VE"
      },
      "execution_count": null,
      "outputs": []
    },
    {
      "cell_type": "code",
      "source": [
        "import tensorflow as tf\n",
        "from transformers import BertTokenizer, TFBertForSequenceClassification"
      ],
      "metadata": {
        "id": "4Gn--hadAXMI"
      },
      "execution_count": null,
      "outputs": []
    },
    {
      "cell_type": "code",
      "source": [
        "# Tokenize the data\n",
        "tokenizer = BertTokenizer.from_pretrained('bert-base-uncased')\n",
        "train_encodings = tokenizer(list(train_data[\"eng\"]), truncation=True, padding=True, max_length=128)\n",
        "test_encodings = tokenizer(list(test_data[\"eng\"]), truncation=True, padding=True, max_length=128)"
      ],
      "metadata": {
        "id": "i0fYPOme54Sh"
      },
      "execution_count": null,
      "outputs": []
    },
    {
      "cell_type": "code",
      "source": [
        "# Convert labels to integers\n",
        "train_labels = [labels.index(label) for label in train_data[\"Subject\"]]\n",
        "test_labels = [labels.index(label) for label in test_data[\"Subject\"]]"
      ],
      "metadata": {
        "id": "_unfm7-s54P2"
      },
      "execution_count": null,
      "outputs": []
    },
    {
      "cell_type": "code",
      "source": [
        "# Convert data to TensorFlow Dataset\n",
        "train_dataset = tf.data.Dataset.from_tensor_slices((\n",
        "    dict(train_encodings),\n",
        "    train_labels\n",
        "))\n",
        "test_dataset = tf.data.Dataset.from_tensor_slices((\n",
        "    dict(test_encodings),\n",
        "    test_labels\n",
        "))"
      ],
      "metadata": {
        "id": "1XH0Ip2b54MO"
      },
      "execution_count": null,
      "outputs": []
    },
    {
      "cell_type": "code",
      "source": [
        "# Load pre-trained BERT model\n",
        "model = TFBertForSequenceClassification.from_pretrained('bert-base-uncased', num_labels=len(labels))"
      ],
      "metadata": {
        "colab": {
          "base_uri": "https://localhost:8080/"
        },
        "id": "Mw_b0GMn54IS",
        "outputId": "b99ceaf0-653d-4016-ced8-5d1007260fb0"
      },
      "execution_count": null,
      "outputs": [
        {
          "output_type": "stream",
          "name": "stderr",
          "text": [
            "All model checkpoint layers were used when initializing TFBertForSequenceClassification.\n",
            "\n",
            "Some layers of TFBertForSequenceClassification were not initialized from the model checkpoint at bert-base-uncased and are newly initialized: ['classifier']\n",
            "You should probably TRAIN this model on a down-stream task to be able to use it for predictions and inference.\n"
          ]
        }
      ]
    },
    {
      "cell_type": "code",
      "source": [
        "# Compile the model\n",
        "optimizer = tf.keras.optimizers.Adam(learning_rate=3e-5)\n",
        "loss = tf.keras.losses.SparseCategoricalCrossentropy(from_logits=True)\n",
        "model.compile(optimizer=optimizer, loss=loss, metrics=['accuracy'])"
      ],
      "metadata": {
        "id": "jatc7yvG6gvc"
      },
      "execution_count": null,
      "outputs": []
    },
    {
      "cell_type": "code",
      "source": [
        "# Train the model\n",
        "history = model.fit(train_dataset.shuffle(100).batch(32), epochs=5, batch_size=32, validation_data=test_dataset.shuffle(100).batch(32))"
      ],
      "metadata": {
        "colab": {
          "base_uri": "https://localhost:8080/"
        },
        "id": "dwTDS-i56u5n",
        "outputId": "a1965474-afd8-4638-fdc2-ad60816bcf39"
      },
      "execution_count": null,
      "outputs": [
        {
          "output_type": "stream",
          "name": "stdout",
          "text": [
            "Epoch 1/5\n",
            "250/250 [==============================] - 256s 850ms/step - loss: 0.4203 - accuracy: 0.8560 - val_loss: 0.2648 - val_accuracy: 0.9110\n",
            "Epoch 2/5\n",
            "250/250 [==============================] - 212s 850ms/step - loss: 0.1751 - accuracy: 0.9402 - val_loss: 0.2491 - val_accuracy: 0.9190\n",
            "Epoch 3/5\n",
            "250/250 [==============================] - 208s 834ms/step - loss: 0.0961 - accuracy: 0.9696 - val_loss: 0.2756 - val_accuracy: 0.9165\n",
            "Epoch 4/5\n",
            "250/250 [==============================] - 208s 834ms/step - loss: 0.0641 - accuracy: 0.9805 - val_loss: 0.3110 - val_accuracy: 0.9215\n",
            "Epoch 5/5\n",
            "250/250 [==============================] - 208s 833ms/step - loss: 0.0524 - accuracy: 0.9822 - val_loss: 0.3551 - val_accuracy: 0.9135\n"
          ]
        }
      ]
    },
    {
      "cell_type": "code",
      "source": [
        "# Evaluate the model\n",
        "test_loss, test_acc = model.evaluate(test_dataset.batch(32))"
      ],
      "metadata": {
        "colab": {
          "base_uri": "https://localhost:8080/"
        },
        "id": "ARq_Mjw7sYfR",
        "outputId": "6b0c8aaf-f933-4cff-c258-ab811a588158"
      },
      "execution_count": null,
      "outputs": [
        {
          "output_type": "stream",
          "name": "stdout",
          "text": [
            "63/63 [==============================] - 17s 269ms/step - loss: 0.3551 - accuracy: 0.9135\n"
          ]
        }
      ]
    },
    {
      "cell_type": "code",
      "source": [
        "import matplotlib.pyplot as plt\n",
        "# Plot loss\n",
        "plt.plot(history.history['loss'], label='Training Loss')\n",
        "plt.plot(history.history['val_loss'], label='Validation Loss')\n",
        "plt.title('Loss Curves')\n",
        "plt.xlabel('Epoch')\n",
        "plt.ylabel('Loss')\n",
        "plt.legend()\n",
        "plt.show()\n",
        "\n",
        "# Plot accuracy\n",
        "plt.plot(history.history['accuracy'], label='Training Accuracy')\n",
        "plt.plot(history.history['val_accuracy'], label='Validation Accuracy')\n",
        "plt.title('Accuracy Curves')\n",
        "plt.xlabel('Epoch')\n",
        "plt.ylabel('Accuracy')\n",
        "plt.legend()\n",
        "plt.show()\n"
      ],
      "metadata": {
        "colab": {
          "base_uri": "https://localhost:8080/",
          "height": 573
        },
        "id": "4jkn5dhO82b5",
        "outputId": "eeab57b7-5791-4915-9fbd-eb7a871041a8"
      },
      "execution_count": null,
      "outputs": [
        {
          "output_type": "display_data",
          "data": {
            "text/plain": [
              "<Figure size 432x288 with 1 Axes>"
            ],
            "image/png": "[encoded data removed]"
          },
          "metadata": {
            "needs_background": "light"
          }
        },
        {
          "output_type": "display_data",
          "data": {
            "text/plain": [
              "<Figure size 432x288 with 1 Axes>"
            ],
            "image/png": "[encoded data removed]"
          },
          "metadata": {
            "needs_background": "light"
          }
        }
      ]
    },
    {
      "cell_type": "code",
      "source": [],
      "metadata": {
        "id": "YJT9dOrsDoCO"
      },
      "execution_count": null,
      "outputs": []
    }
  ],
  "metadata": {
    "accelerator": "GPU",
    "colab": {
      "provenance": [],
      "include_colab_link": true
    },
    "gpuClass": "standard",
    "kernelspec": {
      "display_name": "Python 3",
      "name": "python3"
    },
    "language_info": {
      "name": "python"
    }
  },
  "nbformat": 4,
  "nbformat_minor": 0
}